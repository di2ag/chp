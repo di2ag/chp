{
 "cells": [
  {
   "cell_type": "markdown",
   "metadata": {},
   "source": [
    "# Example Query for Survival Probability of 1-hop Queries\n",
    "\n",
    "Queries our system in the form of:<br>\n",
    "$P(survival\\_time > X | Drug \\wedge Disease)$<br>\n",
    "Returned is a knowledge graph containing probability of survival time and genes/drugs that contributed strongly to the question of survival time."
   ]
  },
  {
   "cell_type": "code",
   "execution_count": 1,
   "metadata": {},
   "outputs": [],
   "source": [
    "import requests\n",
    "import json\n",
    "import csv"
   ]
  },
  {
   "cell_type": "markdown",
   "metadata": {},
   "source": [
    "# /predicate functionality example\n",
    "By running /predicates you can extract a json object with the following predicates:<br>\n",
    "1.) biolink:treats<br>\n",
    "2.) biolink:gene_associated_with_condition<br>\n",
    "3.) biolink:interacts_with<br>\n",
    "2.) biolink:has_phenotype<br>\n",
    "\n",
    "The above predicates link the following biolink entities:<br>\n",
    "1.) biolink:Gene<br>\n",
    "2.) biolink:Drug<br>\n",
    "3.) biolink:Disease<br>\n",
    "4.) biolink:PhenotypicFeature<br>"
   ]
  },
  {
   "cell_type": "code",
   "execution_count": 2,
   "metadata": {},
   "outputs": [
    {
     "name": "stdout",
     "output_type": "stream",
     "text": [
      "{\n",
      "  \"biolink:Gene\": {\n",
      "    \"biolink:Disease\": [\n",
      "      \"biolink:gene_associated_with_condition\"\n",
      "    ],\n",
      "    \"biolink:Drug\": [\n",
      "      \"biolink:interacts_with\"\n",
      "    ]\n",
      "  },\n",
      "  \"biolink:Drug\": {\n",
      "    \"biolink:Disease\": [\n",
      "      \"biolink:treats\"\n",
      "    ],\n",
      "    \"biolink:Gene\": [\n",
      "      \"biolink:interacts_with\"\n",
      "    ]\n",
      "  },\n",
      "  \"biolink:Disease\": {\n",
      "    \"biolink:PhenotypicFeature\": [\n",
      "      \"biolink:has_phenotype\"\n",
      "    ]\n",
      "  }\n",
      "}\n"
     ]
    }
   ],
   "source": [
    "r = requests.get('http://chp.thayer.dartmouth.edu/predicates/')\n",
    "json_formatted_str = json.dumps(json.loads(r.content), indent=2)\n",
    "print(json_formatted_str)"
   ]
  },
  {
   "cell_type": "markdown",
   "metadata": {},
   "source": [
    "# Build Query\n",
    "Constructs a json query object and can take in a survival time, a disease and a drug."
   ]
  },
  {
   "cell_type": "code",
   "execution_count": 3,
   "metadata": {},
   "outputs": [],
   "source": [
    "# Function: buildQuery\n",
    "#\n",
    "# Input:\n",
    "# -----------\n",
    "# survival time, a disease and a drug\n",
    "#\n",
    "# Output:\n",
    "# -----------\n",
    "# A query graph that asks this probablistic question: \n",
    "# P(survival_time > X | drug and/or mutated_gene and Disease)\n",
    "\n",
    "def buildQuery(disease, gene=None, gene_node=False, drug=None, drug_node=False, survival_time=None, survival_node=True):\n",
    "    \n",
    "    # empty response\n",
    "    reasoner_std = { \"query_graph\": dict()\n",
    "                   }\n",
    "    # empty query graph\n",
    "    reasoner_std[\"query_graph\"] = { \"edges\": dict(),\n",
    "                                    \"nodes\": dict()\n",
    "                                  }\n",
    "    \n",
    "    node_count = 0\n",
    "    edge_count = 0\n",
    "    \n",
    "    # add gene node\n",
    "    gene_node_idx = None\n",
    "    if gene_node:\n",
    "        if gene is not None:\n",
    "            reasoner_std['query_graph']['nodes']['n{}'.format(node_count)] = {'category':'biolink:Gene',\n",
    "                                                                              'id':gene}\n",
    "            gene_node_idx = node_count\n",
    "            node_count += 1\n",
    "        else:\n",
    "            reasoner_std['query_graph']['nodes']['n{}'.format(node_count)] = {'category':'biolink:Gene'}\n",
    "            gene_node_idx = node_count\n",
    "            node_count += 1\n",
    "    \n",
    "    # add drug node\n",
    "    drug_node_idx = None\n",
    "    if drug_node:\n",
    "        if drug is not None:\n",
    "            reasoner_std['query_graph']['nodes']['n{}'.format(node_count)] = {'category':'biolink:Drug',\n",
    "                                                                              'id':drug}\n",
    "            drug_node_idx = node_count\n",
    "            node_count += 1\n",
    "        else:\n",
    "            reasoner_std['query_graph']['nodes']['n{}'.format(node_count)] = {'category':'biolink:Drug'}\n",
    "            drug_node_idx = node_count\n",
    "            node_count += 1\n",
    "    \n",
    "    # add in disease node\n",
    "    disease_node_idx = node_count\n",
    "    reasoner_std['query_graph']['nodes']['n{}'.format(node_count)] = { 'category':'biolink:Disease',\n",
    "                                                                       'id':disease}\n",
    "    node_count += 1\n",
    "    \n",
    "    # add survival node\n",
    "    survival_node_idx = None\n",
    "    if survival_node:\n",
    "        phenotype = ('Survival_Time', 'EFO:0000714')\n",
    "        reasoner_std['query_graph']['nodes']['n{}'.format(node_count)] = { 'category': 'biolink:PhenotypicFeature',\n",
    "                                                                           'id': 'EFO:0000714'}\n",
    "        survival_node_idx = node_count\n",
    "    \n",
    "    # link evidence to disease node\n",
    "    if gene_node_idx is not None:\n",
    "        reasoner_std['query_graph']['edges']['e{}'.format(edge_count)] = { 'predicate':'biolink:gene_associated_with_condition',\n",
    "                                                                           'subject': 'n{}'.format(gene_node_idx),\n",
    "                                                                           'object': 'n{}'.format(disease_node_idx)}\n",
    "        edge_count += 1\n",
    "        \n",
    "    if drug_node_idx is not None:\n",
    "        reasoner_std['query_graph']['edges']['e{}'.format(edge_count)] = { 'predicate':'biolink:treats',\n",
    "                                                                           'subject': 'n{}'.format(drug_node_idx),\n",
    "                                                                           'object': 'n{}'.format(disease_node_idx)}\n",
    "        edge_count += 1\n",
    "            \n",
    "    \n",
    "    # link disease to survival node\n",
    "    if survival_node:\n",
    "        reasoner_std['query_graph']['edges']['e{}'.format(edge_count)] = {'predicate':'biolink:has_phenotype',\n",
    "                                                                          'subject': 'n{}'.format(disease_node_idx),\n",
    "                                                                          'object': 'n{}'.format(survival_node_idx)}\n",
    "        if survival_time is not None:\n",
    "            reasoner_std['query_graph']['edges']['e{}'.format(edge_count)]['properties'] = {'qualifier':'>=',\n",
    "                                                                                            'days':survival_time}\n",
    "        \n",
    "    return reasoner_std"
   ]
  },
  {
   "cell_type": "markdown",
   "metadata": {},
   "source": [
    "# Constructing the Query and pinging CHP\n",
    "# Example 1 - Drug wildcard to disease one hop"
   ]
  },
  {
   "cell_type": "code",
   "execution_count": 4,
   "metadata": {
    "scrolled": false
   },
   "outputs": [],
   "source": [
    "query = buildQuery('MONDO:0007254', drug_node=True, survival_node=False)\n",
    "payload = {'message': query}\n",
    "\n",
    "#increase max_results\n",
    "payload['max_results'] = 10\n",
    "\n",
    "r = requests.post('http://chp.thayer.dartmouth.edu/query/', json=payload)\n",
    "chp_res = json.loads(r.content)"
   ]
  },
  {
   "cell_type": "markdown",
   "metadata": {},
   "source": [
    "# Extract Contributing Drugs\n",
    "Contribution values range between -1 and 1. Drugs closer to -1 can be thought of as having contributed more to the false assignment of $P(survival\\_time > X | Disease)$. Similarly Drugs closer to 1 can be thought of as having contributed more to the true assignment. Drugs are ordered by absolute value."
   ]
  },
  {
   "cell_type": "code",
   "execution_count": 5,
   "metadata": {},
   "outputs": [
    {
     "name": "stdout",
     "output_type": "stream",
     "text": [
      "('DOXORUBICIN', 'CHEMBL:CHEMBL53463', 0.22874944370271488)\n",
      "('PACLITAXEL', 'CHEMBL:CHEMBL428647', 0.17985333101139664)\n",
      "('CYCLOPHOSPHAMIDE', 'CHEMBL:CHEMBL88', 0.12557806543990868)\n",
      "('TAMOXIFEN', 'CHEMBL:CHEMBL83', 0.05811613552369377)\n",
      "('TAXOTERE', 'CHEMBL:CHEMBL92', -0.056432731564791616)\n",
      "('HERCEPTIN', 'CHEMBL:CHEMBL1201585', 0.03390994756293421)\n",
      "('ARIMIDEX', 'CHEMBL:CHEMBL1399', 0.03325206555600718)\n",
      "('FLUOROURACIL', 'CHEMBL:CHEMBL185', -0.028405023122617584)\n",
      "('LETROZOLE', 'CHEMBL:CHEMBL1444', 0.027698767438710595)\n",
      "('ADRIAMYCIN-CYCLOPHOSPHAMIDE', 'CHEMBL:CHEMBL1200796', -0.024941467850854274)\n"
     ]
    }
   ],
   "source": [
    "KG = chp_res['message']['knowledge_graph']\n",
    "QG = chp_res['message']['query_graph']\n",
    "results = chp_res['message']['results']\n",
    "\n",
    "drugs = []\n",
    "for sr in results:\n",
    "    for qge_id in sr['edge_bindings'].keys():\n",
    "        if QG['edges'][qge_id]['predicate'] == 'biolink:treats':\n",
    "            kge_id = sr['edge_bindings'][qge_id][0]['id']\n",
    "            sensitivity = KG['edges'][kge_id]\n",
    "            drug_curie = sensitivity['subject']\n",
    "            drug_weight = sensitivity['attributes'][0]['value']    \n",
    "    for qgn_id in sr['node_bindings'].keys():\n",
    "        if QG['nodes'][qgn_id]['category'] == 'biolink:Drug':\n",
    "            kgn_id = sr['node_bindings'][qgn_id][0]['id']\n",
    "            drug_name = KG['nodes'][kgn_id]['name']\n",
    "    drugs.append((drug_name, drug_curie, drug_weight))\n",
    "                 \n",
    "for drug in drugs:\n",
    "    print(drug)"
   ]
  },
  {
   "cell_type": "markdown",
   "metadata": {},
   "source": [
    "# Example 2 - Gene wildcard to disease one hop"
   ]
  },
  {
   "cell_type": "code",
   "execution_count": 6,
   "metadata": {},
   "outputs": [],
   "source": [
    "query = buildQuery('MONDO:0007254', gene_node=True, survival_node=False)\n",
    "payload = {'message': query}\n",
    "\n",
    "#increase max_results\n",
    "payload['max_results'] = 10\n",
    "\n",
    "r = requests.post('http://chp.thayer.dartmouth.edu/query/', json=payload)\n",
    "chp_res = json.loads(r.content)"
   ]
  },
  {
   "cell_type": "markdown",
   "metadata": {},
   "source": [
    "# Extract Contributing Genes"
   ]
  },
  {
   "cell_type": "code",
   "execution_count": 7,
   "metadata": {},
   "outputs": [
    {
     "name": "stdout",
     "output_type": "stream",
     "text": [
      "('PIK3CA', 'ENSEMBL:ENSG00000121879', -0.04130144540546843)\n",
      "('MUC16', 'ENSEMBL:ENSG00000181143', -0.021980998819682317)\n",
      "('ERBB2', 'ENSEMBL:ENSG00000141736', -0.0187109382558387)\n",
      "('PDZD2', 'ENSEMBL:ENSG00000133401', -0.0187109382558387)\n",
      "('MYO7B', 'ENSEMBL:ENSG00000169994', -0.018701263520442716)\n",
      "('MYCBP2', 'ENSEMBL:ENSG00000005810', -0.018701263520442716)\n",
      "('WNK3', 'ENSEMBL:ENSG00000196632', -0.018701263520442716)\n",
      "('BPTF', 'ENSEMBL:ENSG00000171634', -0.018701263520442716)\n",
      "('CR1', 'ENSEMBL:ENSG00000203710', -0.018691588785046728)\n",
      "('NIN', 'ENSEMBL:ENSG00000100503', -0.018691588785046728)\n"
     ]
    }
   ],
   "source": [
    "KG = chp_res['message']['knowledge_graph']\n",
    "QG = chp_res['message']['query_graph']\n",
    "results = chp_res['message']['results']\n",
    "\n",
    "genes = []\n",
    "for sr in results:\n",
    "    for qge_id in sr['edge_bindings'].keys():\n",
    "        if QG['edges'][qge_id]['predicate'] == 'biolink:gene_associated_with_condition':\n",
    "            kge_id = sr['edge_bindings'][qge_id][0]['id']\n",
    "            sensitivity = KG['edges'][kge_id]\n",
    "            gene_curie = sensitivity['subject']\n",
    "            gene_weight = sensitivity['attributes'][0]['value']    \n",
    "    for qgn_id in sr['node_bindings'].keys():\n",
    "        if QG['nodes'][qgn_id]['category'] == 'biolink:Gene':\n",
    "            kgn_id = sr['node_bindings'][qgn_id][0]['id']\n",
    "            gene_name = KG['nodes'][kgn_id]['name']\n",
    "    genes.append((gene_name, gene_curie, gene_weight))\n",
    "    \n",
    "for gene in genes:\n",
    "    print(gene)"
   ]
  },
  {
   "cell_type": "markdown",
   "metadata": {},
   "source": [
    "# Example 3 - Drug wildcard with gene/disease evidence"
   ]
  },
  {
   "cell_type": "code",
   "execution_count": 8,
   "metadata": {},
   "outputs": [],
   "source": [
    "survival_time = 1000\n",
    "query = buildQuery('MONDO:0007254', drug_node=True, gene_node=True, gene='ENSEMBL:ENSG00000132155', survival_node=True, survival_time = survival_time)\n",
    "payload = {'message': query}\n",
    "\n",
    "#increase max_results\n",
    "payload['max_results'] = 10\n",
    "\n",
    "r = requests.post('http://chp.thayer.dartmouth.edu/query/', json=payload)\n",
    "chp_res = json.loads(r.content)"
   ]
  },
  {
   "cell_type": "markdown",
   "metadata": {},
   "source": [
    "# Extracting probability of survival"
   ]
  },
  {
   "cell_type": "code",
   "execution_count": 9,
   "metadata": {},
   "outputs": [
    {
     "name": "stdout",
     "output_type": "stream",
     "text": [
      "P(survival_time > 1000 | gene & disease): 0.3334874322159554\n"
     ]
    }
   ],
   "source": [
    "KG = chp_res['message']['knowledge_graph']\n",
    "QG = chp_res['message']['query_graph']\n",
    "results = chp_res['message']['results']\n",
    "\n",
    "# holds probability of survival\n",
    "survival_result = results[0]\n",
    "\n",
    "for qge_id in survival_result['edge_bindings'].keys():\n",
    "    if QG['edges'][qge_id]['predicate'] == 'biolink:has_phenotype':\n",
    "        kge_id = survival_result['edge_bindings'][qge_id][0]['id']\n",
    "        probability = KG['edges'][kge_id]['attributes'][0]['value']\n",
    "        \n",
    "print(\"P(survival_time > {} | gene & disease):\".format(survival_time),probability)"
   ]
  },
  {
   "cell_type": "markdown",
   "metadata": {},
   "source": [
    "# Extracting Contributing Drugs"
   ]
  },
  {
   "cell_type": "code",
   "execution_count": 10,
   "metadata": {},
   "outputs": [
    {
     "name": "stdout",
     "output_type": "stream",
     "text": [
      "('DOXORUBICIN', 'CHEMBL:CHEMBL53463', 0.004673195938649988)\n",
      "('TAXOL', 'CHEMBL:CHEMBL306601', 0.004670816547534668)\n",
      "('CYCLOPHOSPHAMIDE', 'CHEMBL:CHEMBL88', 0.0023397734021146275)\n",
      "('ARIMIDEX', 'CHEMBL:CHEMBL1399', -0.0023358729371045343)\n",
      "('TAXOTERE', 'CHEMBL:CHEMBL92', -0.002333196806875803)\n",
      "('PACLITAXEL', 'CHEMBL:CHEMBL428647', 1.5224821212680814e-06)\n",
      "('TAMOXIFEN', 'CHEMBL:CHEMBL83', 1.2625307856160299e-06)\n",
      "('LETROZOLE', 'CHEMBL:CHEMBL1444', 4.960920307140109e-07)\n",
      "('HERCEPTIN', 'CHEMBL:CHEMBL1201585', 4.735175000614108e-07)\n",
      "('FLUOROURACIL', 'CHEMBL:CHEMBL185', 2.9288996091814156e-07)\n"
     ]
    }
   ],
   "source": [
    "# holds drug sensitivites\n",
    "sensitivity_results = results[1:]\n",
    "\n",
    "drugs = []\n",
    "for sr in sensitivity_results:\n",
    "    for qge_id in sr['edge_bindings'].keys():\n",
    "        if QG['edges'][qge_id]['predicate'] == 'biolink:treats':\n",
    "            kge_id = sr['edge_bindings'][qge_id][0]['id']\n",
    "            sensitivity = KG['edges'][kge_id]\n",
    "            drug_curie = sensitivity['subject']\n",
    "            drug_weight = sensitivity['attributes'][0]['value']    \n",
    "    for qgn_id in sr['node_bindings'].keys():\n",
    "        if QG['nodes'][qgn_id]['category'] == 'biolink:Drug':\n",
    "            kgn_id = sr['node_bindings'][qgn_id][0]['id']\n",
    "            drug_name = KG['nodes'][kgn_id]['name']\n",
    "    drugs.append((drug_name, drug_curie, drug_weight))\n",
    "                 \n",
    "for drug in drugs:\n",
    "    print(drug)"
   ]
  },
  {
   "cell_type": "markdown",
   "metadata": {},
   "source": [
    "# Example 4 - Gene wildcard with drug/disease evidence"
   ]
  },
  {
   "cell_type": "code",
   "execution_count": 11,
   "metadata": {},
   "outputs": [],
   "source": [
    "#survival_time = 1000\n",
    "query = buildQuery('MONDO:0007254', drug_node=True, drug = 'CHEMBL:CHEMBL88', gene_node=True, survival_node=True, survival_time =survival_time)\n",
    "payload = {'message': query}\n",
    "\n",
    "#increase max_results\n",
    "payload['max_results'] = 10\n",
    "\n",
    "r = requests.post('http://chp.thayer.dartmouth.edu/query/', json=payload)\n",
    "chp_res = json.loads(r.content)"
   ]
  },
  {
   "cell_type": "markdown",
   "metadata": {},
   "source": [
    "# Extracting probability of survival"
   ]
  },
  {
   "cell_type": "code",
   "execution_count": 12,
   "metadata": {},
   "outputs": [
    {
     "name": "stdout",
     "output_type": "stream",
     "text": [
      "P(survival_time > 1000 | drug & disease): 0.5300454864137873\n"
     ]
    }
   ],
   "source": [
    "KG = chp_res['message']['knowledge_graph']\n",
    "QG = chp_res['message']['query_graph']\n",
    "results = chp_res['message']['results']\n",
    "\n",
    "# holds probability of survival\n",
    "survival_result = results[0]\n",
    "\n",
    "for qge_id in survival_result['edge_bindings'].keys():\n",
    "    if QG['edges'][qge_id]['predicate'] == 'biolink:has_phenotype':\n",
    "        kge_id = survival_result['edge_bindings'][qge_id][0]['id']\n",
    "        probability = KG['edges'][kge_id]['attributes'][0]['value']\n",
    "        \n",
    "print(\"P(survival_time > {} | drug & disease):\".format(survival_time),probability)"
   ]
  },
  {
   "cell_type": "markdown",
   "metadata": {},
   "source": [
    "# Extracting Contributing Genes"
   ]
  },
  {
   "cell_type": "code",
   "execution_count": 13,
   "metadata": {},
   "outputs": [
    {
     "name": "stdout",
     "output_type": "stream",
     "text": [
      "('TP53', 'ENSEMBL:ENSG00000141510', -0.02228686754997919)\n",
      "('VPS13C', 'ENSEMBL:ENSG00000129003', -0.021107130472441893)\n",
      "('RYR2', 'ENSEMBL:ENSG00000198626', 0.0189906274939515)\n",
      "('WNK3', 'ENSEMBL:ENSG00000196632', -0.018593918858492306)\n",
      "('CHD4', 'ENSEMBL:ENSG00000111642', -0.018237524641013057)\n",
      "('ROBO1', 'ENSEMBL:ENSG00000169855', -0.01808725294758703)\n",
      "('MYCBP2', 'ENSEMBL:ENSG00000005810', -0.0176638646058902)\n",
      "('SGIP1', 'ENSEMBL:ENSG00000118473', -0.01744410935509824)\n",
      "('SPTA1', 'ENSEMBL:ENSG00000163554', 0.017139336285661264)\n",
      "('ERBB2', 'ENSEMBL:ENSG00000141736', -0.015726802460211825)\n"
     ]
    }
   ],
   "source": [
    "# holds drug sensitivites\n",
    "sensitivity_results = results[1:]\n",
    "\n",
    "genes = []\n",
    "for sr in sensitivity_results:\n",
    "    for qge_id in sr['edge_bindings'].keys():\n",
    "        if QG['edges'][qge_id]['predicate'] == 'biolink:gene_associated_with_condition':\n",
    "            kge_id = sr['edge_bindings'][qge_id][0]['id']\n",
    "            sensitivity = KG['edges'][kge_id]\n",
    "            gene_curie = sensitivity['subject']\n",
    "            gene_weight = sensitivity['attributes'][0]['value']    \n",
    "    for qgn_id in sr['node_bindings'].keys():\n",
    "        if QG['nodes'][qgn_id]['category'] == 'biolink:Gene':\n",
    "            kgn_id = sr['node_bindings'][qgn_id][0]['id']\n",
    "            gene_name = KG['nodes'][kgn_id]['name']\n",
    "    genes.append((gene_name, gene_curie, gene_weight))\n",
    "                 \n",
    "for gene in genes:\n",
    "    print(gene)"
   ]
  },
  {
   "cell_type": "code",
   "execution_count": null,
   "metadata": {},
   "outputs": [],
   "source": []
  }
 ],
 "metadata": {
  "kernelspec": {
   "display_name": "Python 3",
   "language": "python",
   "name": "python3"
  },
  "language_info": {
   "codemirror_mode": {
    "name": "ipython",
    "version": 3
   },
   "file_extension": ".py",
   "mimetype": "text/x-python",
   "name": "python",
   "nbconvert_exporter": "python",
   "pygments_lexer": "ipython3",
   "version": "3.8.7"
  }
 },
 "nbformat": 4,
 "nbformat_minor": 2
}
