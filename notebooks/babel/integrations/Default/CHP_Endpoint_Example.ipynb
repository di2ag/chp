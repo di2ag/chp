{
 "cells": [
  {
   "cell_type": "markdown",
   "metadata": {},
   "source": [
    "# /query and /predicate functionality for CHP\n",
    "\n",
    "Queries for our system are in the probabilistic form:<br>\n",
    "$P(survival\\_time > X | Mut\\_g_1 = True, Mut\\_g_2 = True, ..., Mut\\_g_n = True, Drug = d_1, Drug = d_2, ..., Drug = d_n)$<br>\n",
    "Returned is a knowledge graph containing probability of survival time and contribution analysis (if specified in QG additional properties)."
   ]
  },
  {
   "cell_type": "code",
   "execution_count": 1,
   "metadata": {},
   "outputs": [],
   "source": [
    "import requests\n",
    "import json\n",
    "import csv"
   ]
  },
  {
   "cell_type": "markdown",
   "metadata": {},
   "source": [
    "# /predicate functionality example\n",
    "By running /predicates you can extract a json object with the following predicates:<br>\n",
    "1.) biolink:treats<br>\n",
    "2.) biolink:gene_associated_with_condition<br>\n",
    "3.) biolink:interacts_with<br>\n",
    "2.) biolink:has_phenotype<br>\n",
    "\n",
    "The above predicates link the following biolink entities:<br>\n",
    "1.) biolink:Gene<br>\n",
    "2.) biolink:Drug<br>\n",
    "3.) biolink:Disease<br>\n",
    "4.) biolink:PhenotypicFeature<br>"
   ]
  },
  {
   "cell_type": "code",
   "execution_count": 2,
   "metadata": {},
   "outputs": [
    {
     "name": "stdout",
     "output_type": "stream",
     "text": [
      "{\n",
      "  \"biolink:Gene\": {\n",
      "    \"biolink:Disease\": [\n",
      "      \"biolink:gene_associated_with_condition\"\n",
      "    ],\n",
      "    \"biolink:Drug\": [\n",
      "      \"biolink:interacts_with\"\n",
      "    ]\n",
      "  },\n",
      "  \"biolink:Drug\": {\n",
      "    \"biolink:Disease\": [\n",
      "      \"biolink:treats\"\n",
      "    ],\n",
      "    \"biolink:Gene\": [\n",
      "      \"biolink:interacts_with\"\n",
      "    ]\n",
      "  },\n",
      "  \"biolink:Disease\": {\n",
      "    \"biolink:PhenotypicFeature\": [\n",
      "      \"biolink:has_phenotype\"\n",
      "    ]\n",
      "  }\n",
      "}\n"
     ]
    }
   ],
   "source": [
    "r = requests.get('http://chp.thayer.dartmouth.edu/predicates/')\n",
    "json_formatted_str = json.dumps(json.loads(r.content), indent=2)\n",
    "print(json_formatted_str)"
   ]
  },
  {
   "cell_type": "markdown",
   "metadata": {},
   "source": [
    "# Build Query\n",
    "Constructs a json query object and can take in a survival time, a disease and a set of genes and drugs."
   ]
  },
  {
   "cell_type": "code",
   "execution_count": 3,
   "metadata": {},
   "outputs": [],
   "source": [
    "# Function: buildQuery\n",
    "#\n",
    "# Input:\n",
    "# -----------\n",
    "# Survival time, a disease, and a set of genes/drugs\n",
    "#\n",
    "# Output:\n",
    "# -----------\n",
    "# A query graph that answers this probablistic question: \n",
    "# P(survival_time > X | Mut_g1 = True, Mut_g2 = True, ..., Mut_gn = True, Drug = d1, Drug = d2, ..., Drug = dn)\n",
    "\n",
    "def buildQuery(st, disease, genes=[], drugs=[]):\n",
    "    \n",
    "    # empty response\n",
    "    reasoner_std = { \"query_graph\": dict()\n",
    "                   }\n",
    "    # empty query graph\n",
    "    reasoner_std[\"query_graph\"] = { \"edges\": dict(),\n",
    "                                    \"nodes\": dict()\n",
    "                                  }\n",
    "    \n",
    "    node_count = 0\n",
    "    edge_count = 0\n",
    "    \n",
    "    # add genes\n",
    "    for gene in genes:\n",
    "        reasoner_std['query_graph']['nodes']['n{}'.format(node_count)] = { 'category':'biolink:Gene',\n",
    "                                                                           'id':'{}'.format(gene[1])\n",
    "                                                                         }\n",
    "        node_count += 1\n",
    "    \n",
    "    # add drugs\n",
    "    for drug in drugs:\n",
    "        reasoner_std['query_graph']['nodes']['n{}'.format(node_count)] = { 'category':'biolink:Drug',\n",
    "                                                                           'id':'{}'.format(drug[1])\n",
    "                                                                         }\n",
    "        node_count += 1\n",
    "    \n",
    "    # add in disease node\n",
    "    reasoner_std['query_graph']['nodes']['n{}'.format(node_count)] = { 'category':'biolink:Disease',\n",
    "                                                                       'id':'{}'.format(disease[1])\n",
    "                                                                     }\n",
    "    node_count += 1\n",
    "    \n",
    "    # link all evidence to disease\n",
    "    for node_id in reasoner_std['query_graph']['nodes'].keys():\n",
    "        node = reasoner_std['query_graph']['nodes'][node_id]\n",
    "        if node['category'] == 'biolink:Gene':\n",
    "            reasoner_std['query_graph']['edges']['e{}'.format(edge_count)] = { 'predicate':'biolink:gene_associated_with_condition',\n",
    "                                                                               'subject': node_id,\n",
    "                                                                               'object': 'n{}'.format(node_count -1)   # should be disease node\n",
    "                                                                             }\n",
    "            edge_count += 1\n",
    "        elif node['category'] == 'biolink:Drug':\n",
    "            reasoner_std['query_graph']['edges']['e{}'.format(edge_count)] = { 'predicate':'biolink:treats',\n",
    "                                                                               'subject': node_id,\n",
    "                                                                               'object': 'n{}'.format(node_count -1)  # should be disease node\n",
    "                                                                             }\n",
    "            edge_count += 1\n",
    "            \n",
    "    # add target survival node\n",
    "    phenotype = ('survival_time', 'EFO:0000714')\n",
    "    reasoner_std['query_graph']['nodes']['n{}'.format(node_count)] = { 'category': 'biolink:PhenotypicFeature',\n",
    "                                                                       'id': '{}'.format(phenotype[1]),\n",
    "                                                                     }\n",
    "    node_count += 1\n",
    "    \n",
    "    # link disease to target\n",
    "    reasoner_std['query_graph']['edges']['e{}'.format(edge_count)] = { 'predicate':'biolink:has_phenotype',\n",
    "                                                                       'subject': 'n{}'.format(node_count-2),\n",
    "                                                                       'object': 'n{}'.format(node_count-1),\n",
    "                                                                       # properties is optional - if not specified default \n",
    "                                                                       # default qualifier is '>=', can be '<='\n",
    "                                                                       'properties': { 'qualifier':'>=',\n",
    "                                                                                       'days': st\n",
    "                                                                                     }\n",
    "                                                                     }\n",
    "    return reasoner_std"
   ]
  },
  {
   "cell_type": "markdown",
   "metadata": {},
   "source": [
    "# Read Genes and Drugs\n",
    "Functionality to read in our set of available genes and drugs with respective ensemble and chembl curie IDs."
   ]
  },
  {
   "cell_type": "code",
   "execution_count": 4,
   "metadata": {},
   "outputs": [],
   "source": [
    "def readGenes():\n",
    "    with open('gene_curie_map.csv', 'r') as gene_file:\n",
    "        reader = csv.reader(gene_file)\n",
    "        next(reader)\n",
    "        rows = [(row[0],row[1]) for row in reader]\n",
    "    return rows"
   ]
  },
  {
   "cell_type": "code",
   "execution_count": 5,
   "metadata": {},
   "outputs": [],
   "source": [
    "def readDrugs():\n",
    "    with open('drug_curie_map.csv', 'r') as drug_file:\n",
    "        reader = csv.reader(drug_file)\n",
    "        next(reader)\n",
    "        rows = [(row[0],row[1]) for row in reader]\n",
    "    return rows"
   ]
  },
  {
   "cell_type": "markdown",
   "metadata": {},
   "source": [
    "# Constructing the Query and pinging CHP\n",
    "You can use the commented out functionality to check which genes and drugs are available. Survival time, genes and drugs are passed in as evidence. Genes and drugs are formed as a list of tuples. Currently only breast cancer can be used as the disease."
   ]
  },
  {
   "cell_type": "code",
   "execution_count": 6,
   "metadata": {},
   "outputs": [],
   "source": [
    "# list of genes (and curies) we can query over\n",
    "#gene_list = readGenes()\n",
    "\n",
    "# list of drugs (and curies) we can query over\n",
    "#drug_list = readDrugs()\n",
    "\n",
    "# or pull from above lists\n",
    "genes = [('RAF1', 'ENSEMBL:ENSG00000132155'),\n",
    "         ('MAP3K13','ENSEMBL:ENSG00000073803')]\n",
    "drugs = [('CYCLOPHOSPHAMIDE', 'CHEMBL:CHEMBL88')]\n",
    "disease = ('Breast_Cancer', 'MONDO:0007254')\n",
    "survival_time = 970 #days\n",
    "# if genes or drugs is an empty list you can omit them\n",
    "query = buildQuery(survival_time, disease, genes=genes, drugs=drugs)\n",
    "payload = {'message': query}\n",
    "r = requests.post('http://chp.thayer.dartmouth.edu/query/', json=payload)"
   ]
  },
  {
   "cell_type": "markdown",
   "metadata": {},
   "source": [
    "# Extract end probabilitiy and contributions\n",
    "\n",
    "Extract the end probabilities and contributions (if specified in QG additional properties)."
   ]
  },
  {
   "cell_type": "code",
   "execution_count": 7,
   "metadata": {
    "scrolled": true
   },
   "outputs": [
    {
     "name": "stdout",
     "output_type": "stream",
     "text": [
      "Probability of survival > 970 days is: 0.6653032869408916\n"
     ]
    }
   ],
   "source": [
    "chp_res = json.loads(r.content)\n",
    "KG = chp_res['message']['knowledge_graph']\n",
    "for edge_key in KG['edges'].keys():\n",
    "    edge = KG['edges'][edge_key]\n",
    "    if edge['predicate'] == 'biolink:has_phenotype':\n",
    "        p_survival = edge['attributes'][0]['value']\n",
    "\n",
    "# probability of surival given QG specification\n",
    "print(\"Probability of survival > {} days is:\".format(survival_time), p_survival)"
   ]
  },
  {
   "cell_type": "code",
   "execution_count": null,
   "metadata": {},
   "outputs": [],
   "source": []
  }
 ],
 "metadata": {
  "kernelspec": {
   "display_name": "Python 3",
   "language": "python",
   "name": "python3"
  },
  "language_info": {
   "codemirror_mode": {
    "name": "ipython",
    "version": 3
   },
   "file_extension": ".py",
   "mimetype": "text/x-python",
   "name": "python",
   "nbconvert_exporter": "python",
   "pygments_lexer": "ipython3",
   "version": "3.8.7"
  }
 },
 "nbformat": 4,
 "nbformat_minor": 2
}
