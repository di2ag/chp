{
 "cells": [
  {
   "cell_type": "markdown",
   "metadata": {},
   "source": [
    "# Example Query for Survival Probability of 1-hop Queries\n",
    "\n",
    "Queries our system in the form of:<br>\n",
    "$P(survival\\_time > X | Drug)$<br>\n",
    "Returned is a knowledge graph containing genes that contributed strongly to the question of survival time w.r.t a drug. It is our hope that these have some indication of gene sensitivites."
   ]
  },
  {
   "cell_type": "code",
   "execution_count": 1,
   "metadata": {},
   "outputs": [],
   "source": [
    "import requests\n",
    "import json\n",
    "import csv"
   ]
  },
  {
   "cell_type": "markdown",
   "metadata": {},
   "source": [
    "# /predicate functionality example\n",
    "By running /predicates you can extract a json object with the following predicates:<br>\n",
    "1.) biolink:affects<br>\n",
    "2.) biolink:has_phenotype<br>\n",
    "\n",
    "The above predicates link the following biolink entities:<br>\n",
    "1.) biolink:Gene<br>\n",
    "2.) biolink:Drug<br>\n",
    "3.) biolink:Disease<br>\n",
    "4.) biolink:PhenotypicFeature<br>"
   ]
  },
  {
   "cell_type": "code",
   "execution_count": 2,
   "metadata": {},
   "outputs": [
    {
     "name": "stdout",
     "output_type": "stream",
     "text": [
      "{\n",
      "  \"biolink:Gene\": {\n",
      "    \"biolink:Disease\": [\n",
      "      \"biolink:gene_associated_with_condition\"\n",
      "    ],\n",
      "    \"biolink:Drug\": [\n",
      "      \"biolink:interacts_with\"\n",
      "    ]\n",
      "  },\n",
      "  \"biolink:Drug\": {\n",
      "    \"biolink:Disease\": [\n",
      "      \"biolink:treats\"\n",
      "    ],\n",
      "    \"biolink:Gene\": [\n",
      "      \"biolink:interacts_with\"\n",
      "    ]\n",
      "  },\n",
      "  \"biolink:Disease\": {\n",
      "    \"biolink:PhenotypicFeature\": [\n",
      "      \"biolink:has_phenotype\"\n",
      "    ]\n",
      "  }\n",
      "}\n"
     ]
    }
   ],
   "source": [
    "r = requests.get('http://chp.thayer.dartmouth.edu/predicates/')\n",
    "json_formatted_str = json.dumps(json.loads(r.content), indent=2)\n",
    "print(json_formatted_str)"
   ]
  },
  {
   "cell_type": "markdown",
   "metadata": {},
   "source": [
    "# Build Query\n",
    "Constructs a json query object and can take in a survival time single drug. The gene node will be left without a curie and ultimately in the KG will be replace with a series of contributing genes."
   ]
  },
  {
   "cell_type": "code",
   "execution_count": 3,
   "metadata": {},
   "outputs": [],
   "source": [
    "# Function: buildQuery\n",
    "#\n",
    "# Input:\n",
    "# -----------\n",
    "# a single drug\n",
    "#\n",
    "# Output:\n",
    "# -----------\n",
    "# A query graph that asks this probablistic question: \n",
    "# P(survival_time > X | Drug = d1)\n",
    "\n",
    "def buildQuery(st, drug):\n",
    "    \n",
    "    # empty response\n",
    "    reasoner_std = { \"query_graph\": dict(),\n",
    "                   }\n",
    "    # empty query graph\n",
    "    reasoner_std[\"query_graph\"] = { \"edges\": dict(),\n",
    "                                    \"nodes\": dict()\n",
    "                                  }\n",
    "\n",
    "    # wildcard gene slot\n",
    "    reasoner_std['query_graph']['nodes']['n0'] = { 'category':'biolink:Gene'\n",
    "                                                 }\n",
    "    \n",
    "    # drug\n",
    "    reasoner_std['query_graph']['nodes']['n1'] = { 'category':'biolink:Drug',\n",
    "                                                   'id':'{}'.format(drug[1])\n",
    "                                                 }\n",
    "    \n",
    "    # link drug to gene\n",
    "    reasoner_std['query_graph']['edges']['e0'] = { 'predicate':'biolink:interacts_with',\n",
    "                                                   'subject': 'n0',\n",
    "                                                   'object': 'n1'\n",
    "                                                 }\n",
    "    return reasoner_std"
   ]
  },
  {
   "cell_type": "markdown",
   "metadata": {},
   "source": [
    "# Read Drugs\n",
    "Functionality to read in our set of available drugs with respective chembl curie IDs."
   ]
  },
  {
   "cell_type": "code",
   "execution_count": 4,
   "metadata": {},
   "outputs": [],
   "source": [
    "def readDrugs():\n",
    "    with open('drug_curie_map.csv', 'r') as drug_file:\n",
    "        reader = csv.reader(drug_file)\n",
    "        next(reader)\n",
    "        rows = [(row[0],row[1]) for row in reader]\n",
    "    return rows"
   ]
  },
  {
   "cell_type": "markdown",
   "metadata": {},
   "source": [
    "# Constructing the Query and pinging CHP\n",
    "You can use the commented out functionality to check which drugs are available. A single drug tuple may be passed in as evidence."
   ]
  },
  {
   "cell_type": "code",
   "execution_count": 5,
   "metadata": {
    "scrolled": false
   },
   "outputs": [],
   "source": [
    "# list of drugs (and curies) we can query over\n",
    "#drug_list = readDrugs()\n",
    "\n",
    "survival_time = 1000\n",
    "drug = ('CYCLOPHOSPHAMIDE', 'CHEMBL:CHEMBL88')\n",
    "\n",
    "query = buildQuery(survival_time, drug)\n",
    "payload = {'message': query}\n",
    "\n",
    "#increase max_results\n",
    "payload['max_results'] = 10\n",
    "\n",
    "r = requests.post('http://chp.thayer.dartmouth.edu/query/', json=payload)\n",
    "chp_res = json.loads(r.content)"
   ]
  },
  {
   "cell_type": "markdown",
   "metadata": {},
   "source": [
    "# Extract sensitive genes\n",
    "Sensitivty values range between -1 and 1. Genes closer to -1 can be thought of as having contributed more to the false assignment of $P(survival\\_time > X | Drug)$. Similarly genes closer to 1 can be thought of as having contributed more to the true assignment. Gene sensitivities are order by their absolute value."
   ]
  },
  {
   "cell_type": "markdown",
   "metadata": {},
   "source": [
    "## Extract sensitive gene rankings"
   ]
  },
  {
   "cell_type": "code",
   "execution_count": 6,
   "metadata": {},
   "outputs": [
    {
     "name": "stdout",
     "output_type": "stream",
     "text": [
      "('WNK3', 'ENSEMBL:ENSG00000196632', -0.029651380276518785)\n",
      "('ROBO1', 'ENSEMBL:ENSG00000169855', -0.028486670606384976)\n",
      "('MYCBP2', 'ENSEMBL:ENSG00000005810', -0.027851218557822646)\n",
      "('SGIP1', 'ENSEMBL:ENSG00000118473', -0.027499445254417717)\n",
      "('MUC16', 'ENSEMBL:ENSG00000181143', -0.026864718756743795)\n",
      "('RYR2', 'ENSEMBL:ENSG00000198626', 0.02590807163352221)\n",
      "('ERBB2', 'ENSEMBL:ENSG00000141736', -0.02417889048482236)\n",
      "('CDH1', 'ENSEMBL:ENSG00000039068', -0.023975780606831892)\n",
      "('SPTA1', 'ENSEMBL:ENSG00000163554', 0.023688321656584372)\n"
     ]
    }
   ],
   "source": [
    "KG = chp_res['message']['knowledge_graph']\n",
    "QG = chp_res['message']['query_graph']\n",
    "results = chp_res['message']['results']\n",
    "\n",
    "# holds gene sensitivites\n",
    "sensitivity_results = results[1:]\n",
    "\n",
    "genes = []\n",
    "for sr in sensitivity_results:\n",
    "    for qge_id in sr['edge_bindings'].keys():\n",
    "        if QG['edges'][qge_id]['predicate'] == 'biolink:interacts_with':\n",
    "            kge_id = sr['edge_bindings'][qge_id][0]['id']\n",
    "            sensitivity = KG['edges'][kge_id]\n",
    "            gene_curie = sensitivity['subject']\n",
    "            gene_weight = sensitivity['attributes'][0]['value']    \n",
    "    for qgn_id in sr['node_bindings'].keys():\n",
    "        if QG['nodes'][qgn_id]['category'] == 'biolink:Gene':\n",
    "            kgn_id = sr['node_bindings'][qgn_id][0]['id']\n",
    "            gene_name = KG['nodes'][kgn_id]['name']\n",
    "    genes.append((gene_name, gene_curie, gene_weight))\n",
    "    \n",
    "for gene in genes:\n",
    "    print(gene)"
   ]
  },
  {
   "cell_type": "code",
   "execution_count": null,
   "metadata": {},
   "outputs": [],
   "source": []
  }
 ],
 "metadata": {
  "kernelspec": {
   "display_name": "Python 3",
   "language": "python",
   "name": "python3"
  },
  "language_info": {
   "codemirror_mode": {
    "name": "ipython",
    "version": 3
   },
   "file_extension": ".py",
   "mimetype": "text/x-python",
   "name": "python",
   "nbconvert_exporter": "python",
   "pygments_lexer": "ipython3",
   "version": "3.8.7"
  }
 },
 "nbformat": 4,
 "nbformat_minor": 2
}
